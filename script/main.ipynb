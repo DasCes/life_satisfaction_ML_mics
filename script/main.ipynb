{
 "cells": [
  {
   "cell_type": "code",
   "execution_count": 1,
   "id": "89e2b2f5-49a3-433d-ad94-852420bd6d2d",
   "metadata": {},
   "outputs": [],
   "source": [
    "import mics_library\n",
    "import os\n",
    "import pandas as pd\n",
    "from IPython.display import display, Markdown\n",
    "from mics_library.preview import screen\n",
    "from mics_library.preview import check_values\n",
    "from mics_library.swap_indicators import swap_indicators\n",
    "from mics_library.loaders import import_dataset\n",
    "from mics_library.recode import create_recoding_dict\n",
    "from mics_library.loaders import merge_questionnaires"
   ]
  },
  {
   "cell_type": "code",
   "execution_count": 2,
   "id": "c401ae3b-f274-4634-b8f4-e5b923f2a3a9",
   "metadata": {},
   "outputs": [],
   "source": [
    "ROOTDIR = 'C:/Users/dario/OneDrive/Desktop/GITLAB/lifesatisfaction_s/data'"
   ]
  },
  {
   "cell_type": "code",
   "execution_count": 3,
   "id": "c4065f90-8723-4e69-9ca0-e0c0fe9afc6e",
   "metadata": {},
   "outputs": [
    {
     "name": "stdout",
     "output_type": "stream",
     "text": [
      "['.ipynb_checkpoints', 'check', 'MICS6', 'out', 'recode_dir', 'screen']\n"
     ]
    }
   ],
   "source": [
    "mics_library.set_rootdir(ROOTDIR)\n",
    "rounds = os.listdir(mics_library.get_rootdir())\n",
    "print(rounds)"
   ]
  },
  {
   "cell_type": "code",
   "execution_count": 4,
   "id": "c6af8a3e-6451-4d92-ba69-239e21b7e6f0",
   "metadata": {},
   "outputs": [],
   "source": [
    "ROUND = 6\n",
    "TARGET_QUESTIONNAIRES = ['wm']"
   ]
  },
  {
   "cell_type": "code",
   "execution_count": 5,
   "id": "1211679e-dc1c-46ad-9843-fb2e1b2129c9",
   "metadata": {
    "scrolled": true,
    "tags": []
   },
   "outputs": [
    {
     "name": "stdout",
     "output_type": "stream",
     "text": [
      "wm - Congo_MICS6\n",
      "here\n"
     ]
    },
    {
     "data": {
      "text/markdown": [
       "---"
      ],
      "text/plain": [
       "<IPython.core.display.Markdown object>"
      ]
     },
     "metadata": {},
     "output_type": "display_data"
    },
    {
     "data": {
      "text/markdown": [
       "### wm"
      ],
      "text/plain": [
       "<IPython.core.display.Markdown object>"
      ]
     },
     "metadata": {},
     "output_type": "display_data"
    },
    {
     "data": {
      "text/html": [
       "<div>\n",
       "<style scoped>\n",
       "    .dataframe tbody tr th:only-of-type {\n",
       "        vertical-align: middle;\n",
       "    }\n",
       "\n",
       "    .dataframe tbody tr th {\n",
       "        vertical-align: top;\n",
       "    }\n",
       "\n",
       "    .dataframe thead th {\n",
       "        text-align: right;\n",
       "    }\n",
       "</style>\n",
       "<table border=\"1\" class=\"dataframe\">\n",
       "  <thead>\n",
       "    <tr style=\"text-align: right;\">\n",
       "      <th></th>\n",
       "      <th>label</th>\n",
       "      <th>ncountries</th>\n",
       "    </tr>\n",
       "  </thead>\n",
       "  <tbody>\n",
       "    <tr>\n",
       "      <th>HH1</th>\n",
       "      <td>Numéro de grappe</td>\n",
       "      <td>1</td>\n",
       "    </tr>\n",
       "    <tr>\n",
       "      <th>HH2</th>\n",
       "      <td>Numéro du ménage</td>\n",
       "      <td>1</td>\n",
       "    </tr>\n",
       "    <tr>\n",
       "      <th>LN</th>\n",
       "      <td>Numéro de la ligne</td>\n",
       "      <td>1</td>\n",
       "    </tr>\n",
       "    <tr>\n",
       "      <th>WM1</th>\n",
       "      <td>Numero de grappe</td>\n",
       "      <td>1</td>\n",
       "    </tr>\n",
       "    <tr>\n",
       "      <th>WM2</th>\n",
       "      <td>Numéro de ménage</td>\n",
       "      <td>1</td>\n",
       "    </tr>\n",
       "    <tr>\n",
       "      <th>...</th>\n",
       "      <td>...</td>\n",
       "      <td>...</td>\n",
       "    </tr>\n",
       "    <tr>\n",
       "      <th>WSCORER</th>\n",
       "      <td>Rural wealth score</td>\n",
       "      <td>1</td>\n",
       "    </tr>\n",
       "    <tr>\n",
       "      <th>WINDEX5R</th>\n",
       "      <td>Quintile du bien être en milieu rural</td>\n",
       "      <td>1</td>\n",
       "    </tr>\n",
       "    <tr>\n",
       "      <th>WINDEX10R</th>\n",
       "      <td>Percentile Group of rur1</td>\n",
       "      <td>1</td>\n",
       "    </tr>\n",
       "    <tr>\n",
       "      <th>PSU</th>\n",
       "      <td>Unité d'échantillonnage primaire</td>\n",
       "      <td>1</td>\n",
       "    </tr>\n",
       "    <tr>\n",
       "      <th>STRATUM</th>\n",
       "      <td>Stratum</td>\n",
       "      <td>1</td>\n",
       "    </tr>\n",
       "  </tbody>\n",
       "</table>\n",
       "<p>424 rows × 2 columns</p>\n",
       "</div>"
      ],
      "text/plain": [
       "                                           label  ncountries\n",
       "HH1                             Numéro de grappe           1\n",
       "HH2                             Numéro du ménage           1\n",
       "LN                            Numéro de la ligne           1\n",
       "WM1                             Numero de grappe           1\n",
       "WM2                             Numéro de ménage           1\n",
       "...                                          ...         ...\n",
       "WSCORER                       Rural wealth score           1\n",
       "WINDEX5R   Quintile du bien être en milieu rural           1\n",
       "WINDEX10R               Percentile Group of rur1           1\n",
       "PSU             Unité d'échantillonnage primaire           1\n",
       "STRATUM                                  Stratum           1\n",
       "\n",
       "[424 rows x 2 columns]"
      ]
     },
     "metadata": {},
     "output_type": "display_data"
    }
   ],
   "source": [
    "dataframes = screen(ROUND, questionnaires=TARGET_QUESTIONNAIRES, ignorecase=True)\n",
    "\n",
    "for quest in TARGET_QUESTIONNAIRES:\n",
    "    display(Markdown('---'))\n",
    "    display(Markdown(f'### {quest}'))\n",
    "    display(dataframes[quest])\n"
   ]
  },
  {
   "cell_type": "code",
   "execution_count": 6,
   "id": "185270e4-3b81-4970-9f82-f1ae04516df8",
   "metadata": {},
   "outputs": [],
   "source": [
    "SCREENDIR = 'C:/Users/dario/OneDrive/Desktop/GITLAB/lifesatisfaction_s/data/screen'\n",
    "\n",
    "for quest in TARGET_QUESTIONNAIRES:\n",
    "    dataframes[quest].to_csv(os.path.join(SCREENDIR, f'{quest}.csv'))"
   ]
  },
  {
   "cell_type": "code",
   "execution_count": 7,
   "id": "7b4446d1-b4c0-49b5-a4a7-43764aecffc6",
   "metadata": {},
   "outputs": [
    {
     "name": "stdout",
     "output_type": "stream",
     "text": [
      "{'wm': ['WB6A', 'WB16', 'MT9', 'MT11', 'CM3', 'CM8', 'CP2', 'UN7', 'UN14N', 'VT9', 'MA1', 'AF10', 'AF11', 'SB2U', 'TA16', 'LS2']}\n"
     ]
    }
   ],
   "source": [
    "select_indicators = {'wm': ['WB6A',\n",
    "                            'WB16',\n",
    "                            'MT9',\n",
    "                            'MT11',\n",
    "                            'CM3',\n",
    "                            'CM8',\n",
    "                            'CP2',\n",
    "                            'UN7',\n",
    "                            'UN14N',\n",
    "                            'VT9',\n",
    "                            'MA1',\n",
    "                            'AF10',\n",
    "                            'AF11',\n",
    "                            'SB2U',\n",
    "                            'TA16',\n",
    "                            'LS2']\n",
    "                    }\n",
    "print(select_indicators)"
   ]
  },
  {
   "cell_type": "code",
   "execution_count": 8,
   "id": "a2ddcdb8-4462-464c-8808-f65bae514d45",
   "metadata": {},
   "outputs": [
    {
     "data": {
      "text/markdown": [
       "---"
      ],
      "text/plain": [
       "<IPython.core.display.Markdown object>"
      ]
     },
     "metadata": {},
     "output_type": "display_data"
    },
    {
     "data": {
      "text/markdown": [
       "## wm"
      ],
      "text/plain": [
       "<IPython.core.display.Markdown object>"
      ]
     },
     "metadata": {},
     "output_type": "display_data"
    },
    {
     "data": {
      "text/markdown": [
       "### WB6A"
      ],
      "text/plain": [
       "<IPython.core.display.Markdown object>"
      ]
     },
     "metadata": {},
     "output_type": "display_data"
    },
    {
     "data": {
      "text/html": [
       "<div>\n",
       "<style scoped>\n",
       "    .dataframe tbody tr th:only-of-type {\n",
       "        vertical-align: middle;\n",
       "    }\n",
       "\n",
       "    .dataframe tbody tr th {\n",
       "        vertical-align: top;\n",
       "    }\n",
       "\n",
       "    .dataframe thead th {\n",
       "        text-align: right;\n",
       "    }\n",
       "</style>\n",
       "<table border=\"1\" class=\"dataframe\">\n",
       "  <thead>\n",
       "    <tr style=\"text-align: right;\">\n",
       "      <th></th>\n",
       "      <th>label</th>\n",
       "      <th>used_indicator</th>\n",
       "      <th>0.0</th>\n",
       "      <th>10.0</th>\n",
       "      <th>20.0</th>\n",
       "      <th>31.0</th>\n",
       "      <th>32.0</th>\n",
       "      <th>33.0</th>\n",
       "      <th>34.0</th>\n",
       "      <th>40.0</th>\n",
       "      <th>98.0</th>\n",
       "      <th>99.0</th>\n",
       "    </tr>\n",
       "  </thead>\n",
       "  <tbody>\n",
       "    <tr>\n",
       "      <th>Congo_MICS6</th>\n",
       "      <td>Le plus haut niveau d'école fréquenté</td>\n",
       "      <td>WB6A</td>\n",
       "      <td>PREPRIMAIRE</td>\n",
       "      <td>PRIMAIRE</td>\n",
       "      <td>SECONDAIRE 1</td>\n",
       "      <td>SECONDAIRE 2 GENER</td>\n",
       "      <td>SECONDAIRE 2 TECHN</td>\n",
       "      <td>SECONDAIRE 2 PROFES</td>\n",
       "      <td>SECONDAIRE 2 ART&amp;M</td>\n",
       "      <td>SUPERIEUR</td>\n",
       "      <td>NSP</td>\n",
       "      <td>NON REPONSE</td>\n",
       "    </tr>\n",
       "  </tbody>\n",
       "</table>\n",
       "</div>"
      ],
      "text/plain": [
       "                                             label used_indicator  \\\n",
       "Congo_MICS6  Le plus haut niveau d'école fréquenté           WB6A   \n",
       "\n",
       "                     0.0      10.0          20.0                31.0  \\\n",
       "Congo_MICS6  PREPRIMAIRE  PRIMAIRE  SECONDAIRE 1  SECONDAIRE 2 GENER   \n",
       "\n",
       "                           32.0                 33.0                34.0  \\\n",
       "Congo_MICS6  SECONDAIRE 2 TECHN  SECONDAIRE 2 PROFES  SECONDAIRE 2 ART&M   \n",
       "\n",
       "                  40.0 98.0         99.0  \n",
       "Congo_MICS6  SUPERIEUR  NSP  NON REPONSE  "
      ]
     },
     "metadata": {},
     "output_type": "display_data"
    },
    {
     "data": {
      "text/markdown": [
       "### WB16"
      ],
      "text/plain": [
       "<IPython.core.display.Markdown object>"
      ]
     },
     "metadata": {},
     "output_type": "display_data"
    },
    {
     "data": {
      "text/html": [
       "<div>\n",
       "<style scoped>\n",
       "    .dataframe tbody tr th:only-of-type {\n",
       "        vertical-align: middle;\n",
       "    }\n",
       "\n",
       "    .dataframe tbody tr th {\n",
       "        vertical-align: top;\n",
       "    }\n",
       "\n",
       "    .dataframe thead th {\n",
       "        text-align: right;\n",
       "    }\n",
       "</style>\n",
       "<table border=\"1\" class=\"dataframe\">\n",
       "  <thead>\n",
       "    <tr style=\"text-align: right;\">\n",
       "      <th></th>\n",
       "      <th>label</th>\n",
       "      <th>used_indicator</th>\n",
       "      <th>1.0</th>\n",
       "      <th>2.0</th>\n",
       "      <th>3.0</th>\n",
       "      <th>6.0</th>\n",
       "      <th>9.0</th>\n",
       "    </tr>\n",
       "  </thead>\n",
       "  <tbody>\n",
       "    <tr>\n",
       "      <th>Congo_MICS6</th>\n",
       "      <td>Lieu de vie avant de déménager é l'endroit actuel</td>\n",
       "      <td>WB16</td>\n",
       "      <td>VILLE</td>\n",
       "      <td>BOURGADE</td>\n",
       "      <td>MILIEU RURAL</td>\n",
       "      <td>AUTRE</td>\n",
       "      <td>NON REPONSE</td>\n",
       "    </tr>\n",
       "  </tbody>\n",
       "</table>\n",
       "</div>"
      ],
      "text/plain": [
       "                                                         label used_indicator  \\\n",
       "Congo_MICS6  Lieu de vie avant de déménager é l'endroit actuel           WB16   \n",
       "\n",
       "               1.0       2.0           3.0    6.0          9.0  \n",
       "Congo_MICS6  VILLE  BOURGADE  MILIEU RURAL  AUTRE  NON REPONSE  "
      ]
     },
     "metadata": {},
     "output_type": "display_data"
    },
    {
     "data": {
      "text/markdown": [
       "### MT9"
      ],
      "text/plain": [
       "<IPython.core.display.Markdown object>"
      ]
     },
     "metadata": {},
     "output_type": "display_data"
    },
    {
     "data": {
      "text/html": [
       "<div>\n",
       "<style scoped>\n",
       "    .dataframe tbody tr th:only-of-type {\n",
       "        vertical-align: middle;\n",
       "    }\n",
       "\n",
       "    .dataframe tbody tr th {\n",
       "        vertical-align: top;\n",
       "    }\n",
       "\n",
       "    .dataframe thead th {\n",
       "        text-align: right;\n",
       "    }\n",
       "</style>\n",
       "<table border=\"1\" class=\"dataframe\">\n",
       "  <thead>\n",
       "    <tr style=\"text-align: right;\">\n",
       "      <th></th>\n",
       "      <th>label</th>\n",
       "      <th>used_indicator</th>\n",
       "      <th>1.0</th>\n",
       "      <th>2.0</th>\n",
       "      <th>9.0</th>\n",
       "    </tr>\n",
       "  </thead>\n",
       "  <tbody>\n",
       "    <tr>\n",
       "      <th>Congo_MICS6</th>\n",
       "      <td>A-t-elle déjé utilisé Internet</td>\n",
       "      <td>MT9</td>\n",
       "      <td>OUI</td>\n",
       "      <td>NON</td>\n",
       "      <td>NON REPONSE</td>\n",
       "    </tr>\n",
       "  </tbody>\n",
       "</table>\n",
       "</div>"
      ],
      "text/plain": [
       "                                      label used_indicator  1.0  2.0  \\\n",
       "Congo_MICS6  A-t-elle déjé utilisé Internet            MT9  OUI  NON   \n",
       "\n",
       "                     9.0  \n",
       "Congo_MICS6  NON REPONSE  "
      ]
     },
     "metadata": {},
     "output_type": "display_data"
    },
    {
     "data": {
      "text/markdown": [
       "### MT11"
      ],
      "text/plain": [
       "<IPython.core.display.Markdown object>"
      ]
     },
     "metadata": {},
     "output_type": "display_data"
    },
    {
     "data": {
      "text/html": [
       "<div>\n",
       "<style scoped>\n",
       "    .dataframe tbody tr th:only-of-type {\n",
       "        vertical-align: middle;\n",
       "    }\n",
       "\n",
       "    .dataframe tbody tr th {\n",
       "        vertical-align: top;\n",
       "    }\n",
       "\n",
       "    .dataframe thead th {\n",
       "        text-align: right;\n",
       "    }\n",
       "</style>\n",
       "<table border=\"1\" class=\"dataframe\">\n",
       "  <thead>\n",
       "    <tr style=\"text-align: right;\">\n",
       "      <th></th>\n",
       "      <th>label</th>\n",
       "      <th>used_indicator</th>\n",
       "      <th>1.0</th>\n",
       "      <th>2.0</th>\n",
       "      <th>9.0</th>\n",
       "    </tr>\n",
       "  </thead>\n",
       "  <tbody>\n",
       "    <tr>\n",
       "      <th>Congo_MICS6</th>\n",
       "      <td>A-t-elle un téléphone portable</td>\n",
       "      <td>MT11</td>\n",
       "      <td>OUI</td>\n",
       "      <td>NON</td>\n",
       "      <td>NON REPONSE</td>\n",
       "    </tr>\n",
       "  </tbody>\n",
       "</table>\n",
       "</div>"
      ],
      "text/plain": [
       "                                      label used_indicator  1.0  2.0  \\\n",
       "Congo_MICS6  A-t-elle un téléphone portable           MT11  OUI  NON   \n",
       "\n",
       "                     9.0  \n",
       "Congo_MICS6  NON REPONSE  "
      ]
     },
     "metadata": {},
     "output_type": "display_data"
    },
    {
     "data": {
      "text/markdown": [
       "### CM3"
      ],
      "text/plain": [
       "<IPython.core.display.Markdown object>"
      ]
     },
     "metadata": {},
     "output_type": "display_data"
    },
    {
     "data": {
      "text/html": [
       "<div>\n",
       "<style scoped>\n",
       "    .dataframe tbody tr th:only-of-type {\n",
       "        vertical-align: middle;\n",
       "    }\n",
       "\n",
       "    .dataframe tbody tr th {\n",
       "        vertical-align: top;\n",
       "    }\n",
       "\n",
       "    .dataframe thead th {\n",
       "        text-align: right;\n",
       "    }\n",
       "</style>\n",
       "<table border=\"1\" class=\"dataframe\">\n",
       "  <thead>\n",
       "    <tr style=\"text-align: right;\">\n",
       "      <th></th>\n",
       "      <th>label</th>\n",
       "      <th>used_indicator</th>\n",
       "    </tr>\n",
       "  </thead>\n",
       "  <tbody>\n",
       "    <tr>\n",
       "      <th>Congo_MICS6</th>\n",
       "      <td>Des fils  vivant avec vous</td>\n",
       "      <td>CM3</td>\n",
       "    </tr>\n",
       "  </tbody>\n",
       "</table>\n",
       "</div>"
      ],
      "text/plain": [
       "                                  label used_indicator\n",
       "Congo_MICS6  Des fils  vivant avec vous            CM3"
      ]
     },
     "metadata": {},
     "output_type": "display_data"
    },
    {
     "data": {
      "text/markdown": [
       "### CM8"
      ],
      "text/plain": [
       "<IPython.core.display.Markdown object>"
      ]
     },
     "metadata": {},
     "output_type": "display_data"
    },
    {
     "data": {
      "text/html": [
       "<div>\n",
       "<style scoped>\n",
       "    .dataframe tbody tr th:only-of-type {\n",
       "        vertical-align: middle;\n",
       "    }\n",
       "\n",
       "    .dataframe tbody tr th {\n",
       "        vertical-align: top;\n",
       "    }\n",
       "\n",
       "    .dataframe thead th {\n",
       "        text-align: right;\n",
       "    }\n",
       "</style>\n",
       "<table border=\"1\" class=\"dataframe\">\n",
       "  <thead>\n",
       "    <tr style=\"text-align: right;\">\n",
       "      <th></th>\n",
       "      <th>label</th>\n",
       "      <th>used_indicator</th>\n",
       "      <th>1.0</th>\n",
       "      <th>2.0</th>\n",
       "    </tr>\n",
       "  </thead>\n",
       "  <tbody>\n",
       "    <tr>\n",
       "      <th>Congo_MICS6</th>\n",
       "      <td>A-t-elle déjé eu un enfant né vivant et qui es...</td>\n",
       "      <td>CM8</td>\n",
       "      <td>OUI</td>\n",
       "      <td>NON</td>\n",
       "    </tr>\n",
       "  </tbody>\n",
       "</table>\n",
       "</div>"
      ],
      "text/plain": [
       "                                                         label used_indicator  \\\n",
       "Congo_MICS6  A-t-elle déjé eu un enfant né vivant et qui es...            CM8   \n",
       "\n",
       "             1.0  2.0  \n",
       "Congo_MICS6  OUI  NON  "
      ]
     },
     "metadata": {},
     "output_type": "display_data"
    },
    {
     "data": {
      "text/markdown": [
       "### CP2"
      ],
      "text/plain": [
       "<IPython.core.display.Markdown object>"
      ]
     },
     "metadata": {},
     "output_type": "display_data"
    },
    {
     "data": {
      "text/html": [
       "<div>\n",
       "<style scoped>\n",
       "    .dataframe tbody tr th:only-of-type {\n",
       "        vertical-align: middle;\n",
       "    }\n",
       "\n",
       "    .dataframe tbody tr th {\n",
       "        vertical-align: top;\n",
       "    }\n",
       "\n",
       "    .dataframe thead th {\n",
       "        text-align: right;\n",
       "    }\n",
       "</style>\n",
       "<table border=\"1\" class=\"dataframe\">\n",
       "  <thead>\n",
       "    <tr style=\"text-align: right;\">\n",
       "      <th></th>\n",
       "      <th>label</th>\n",
       "      <th>used_indicator</th>\n",
       "      <th>1.0</th>\n",
       "      <th>2.0</th>\n",
       "      <th>9.0</th>\n",
       "    </tr>\n",
       "  </thead>\n",
       "  <tbody>\n",
       "    <tr>\n",
       "      <th>Congo_MICS6</th>\n",
       "      <td>Utilisation actuelle des méthodes par le coupl...</td>\n",
       "      <td>CP2</td>\n",
       "      <td>OUI</td>\n",
       "      <td>NON</td>\n",
       "      <td>NON REPONSE</td>\n",
       "    </tr>\n",
       "  </tbody>\n",
       "</table>\n",
       "</div>"
      ],
      "text/plain": [
       "                                                         label used_indicator  \\\n",
       "Congo_MICS6  Utilisation actuelle des méthodes par le coupl...            CP2   \n",
       "\n",
       "             1.0  2.0          9.0  \n",
       "Congo_MICS6  OUI  NON  NON REPONSE  "
      ]
     },
     "metadata": {},
     "output_type": "display_data"
    },
    {
     "data": {
      "text/markdown": [
       "### UN7"
      ],
      "text/plain": [
       "<IPython.core.display.Markdown object>"
      ]
     },
     "metadata": {},
     "output_type": "display_data"
    },
    {
     "data": {
      "text/html": [
       "<div>\n",
       "<style scoped>\n",
       "    .dataframe tbody tr th:only-of-type {\n",
       "        vertical-align: middle;\n",
       "    }\n",
       "\n",
       "    .dataframe tbody tr th {\n",
       "        vertical-align: top;\n",
       "    }\n",
       "\n",
       "    .dataframe thead th {\n",
       "        text-align: right;\n",
       "    }\n",
       "</style>\n",
       "<table border=\"1\" class=\"dataframe\">\n",
       "  <thead>\n",
       "    <tr style=\"text-align: right;\">\n",
       "      <th></th>\n",
       "      <th>label</th>\n",
       "      <th>used_indicator</th>\n",
       "      <th>1.0</th>\n",
       "      <th>2.0</th>\n",
       "      <th>3.0</th>\n",
       "      <th>8.0</th>\n",
       "      <th>9.0</th>\n",
       "    </tr>\n",
       "  </thead>\n",
       "  <tbody>\n",
       "    <tr>\n",
       "      <th>Congo_MICS6</th>\n",
       "      <td>Désir d'avoir un autre enfant dans l'avenir</td>\n",
       "      <td>UN7</td>\n",
       "      <td>AVOIR UN (AUTRE) ENFANT</td>\n",
       "      <td>PAS D?(AUTRE) ENFANT</td>\n",
       "      <td>DIT QU?ELLE NE PEUT PAS TOMBER ENCEINTE</td>\n",
       "      <td>PAS DECIDEE / NSP</td>\n",
       "      <td>NON REPONSE</td>\n",
       "    </tr>\n",
       "  </tbody>\n",
       "</table>\n",
       "</div>"
      ],
      "text/plain": [
       "                                                   label used_indicator  \\\n",
       "Congo_MICS6  Désir d'avoir un autre enfant dans l'avenir            UN7   \n",
       "\n",
       "                                 1.0                   2.0  \\\n",
       "Congo_MICS6  AVOIR UN (AUTRE) ENFANT  PAS D?(AUTRE) ENFANT   \n",
       "\n",
       "                                                 3.0                8.0  \\\n",
       "Congo_MICS6  DIT QU?ELLE NE PEUT PAS TOMBER ENCEINTE  PAS DECIDEE / NSP   \n",
       "\n",
       "                     9.0  \n",
       "Congo_MICS6  NON REPONSE  "
      ]
     },
     "metadata": {},
     "output_type": "display_data"
    },
    {
     "data": {
      "text/markdown": [
       "### UN14N"
      ],
      "text/plain": [
       "<IPython.core.display.Markdown object>"
      ]
     },
     "metadata": {},
     "output_type": "display_data"
    },
    {
     "data": {
      "text/html": [
       "<div>\n",
       "<style scoped>\n",
       "    .dataframe tbody tr th:only-of-type {\n",
       "        vertical-align: middle;\n",
       "    }\n",
       "\n",
       "    .dataframe tbody tr th {\n",
       "        vertical-align: top;\n",
       "    }\n",
       "\n",
       "    .dataframe thead th {\n",
       "        text-align: right;\n",
       "    }\n",
       "</style>\n",
       "<table border=\"1\" class=\"dataframe\">\n",
       "  <thead>\n",
       "    <tr style=\"text-align: right;\">\n",
       "      <th></th>\n",
       "      <th>label</th>\n",
       "      <th>used_indicator</th>\n",
       "      <th>0.0</th>\n",
       "      <th>1.0</th>\n",
       "      <th>2.0</th>\n",
       "      <th>3.0</th>\n",
       "      <th>4.0</th>\n",
       "      <th>5.0</th>\n",
       "      <th>6.0</th>\n",
       "      <th>7.0</th>\n",
       "      <th>...</th>\n",
       "      <th>25.0</th>\n",
       "      <th>26.0</th>\n",
       "      <th>27.0</th>\n",
       "      <th>28.0</th>\n",
       "      <th>29.0</th>\n",
       "      <th>30.0</th>\n",
       "      <th>93.0</th>\n",
       "      <th>94.0</th>\n",
       "      <th>95.0</th>\n",
       "      <th>99.0</th>\n",
       "    </tr>\n",
       "  </thead>\n",
       "  <tbody>\n",
       "    <tr>\n",
       "      <th>Congo_MICS6</th>\n",
       "      <td>Début des derniéres régles- Nombre</td>\n",
       "      <td>UN14N</td>\n",
       "      <td>0</td>\n",
       "      <td>1</td>\n",
       "      <td>2</td>\n",
       "      <td>3</td>\n",
       "      <td>4</td>\n",
       "      <td>5</td>\n",
       "      <td>6</td>\n",
       "      <td>7</td>\n",
       "      <td>...</td>\n",
       "      <td>25</td>\n",
       "      <td>26</td>\n",
       "      <td>27</td>\n",
       "      <td>28</td>\n",
       "      <td>29</td>\n",
       "      <td>30</td>\n",
       "      <td>MENONPAUSEE / A EU UNE HYSTERECTOMIE</td>\n",
       "      <td>AVANT LA DERNIERE NAISSANCE</td>\n",
       "      <td>N?A JAMAIS EU DE REGLES</td>\n",
       "      <td>NON REPONSE</td>\n",
       "    </tr>\n",
       "  </tbody>\n",
       "</table>\n",
       "<p>1 rows × 37 columns</p>\n",
       "</div>"
      ],
      "text/plain": [
       "                                          label used_indicator 0.0 1.0 2.0  \\\n",
       "Congo_MICS6  Début des derniéres régles- Nombre          UN14N   0   1   2   \n",
       "\n",
       "            3.0 4.0 5.0 6.0 7.0  ... 25.0 26.0 27.0 28.0 29.0 30.0  \\\n",
       "Congo_MICS6   3   4   5   6   7  ...   25   26   27   28   29   30   \n",
       "\n",
       "                                             93.0  \\\n",
       "Congo_MICS6  MENONPAUSEE / A EU UNE HYSTERECTOMIE   \n",
       "\n",
       "                                    94.0                     95.0         99.0  \n",
       "Congo_MICS6  AVANT LA DERNIERE NAISSANCE  N?A JAMAIS EU DE REGLES  NON REPONSE  \n",
       "\n",
       "[1 rows x 37 columns]"
      ]
     },
     "metadata": {},
     "output_type": "display_data"
    },
    {
     "data": {
      "text/markdown": [
       "### VT9"
      ],
      "text/plain": [
       "<IPython.core.display.Markdown object>"
      ]
     },
     "metadata": {},
     "output_type": "display_data"
    },
    {
     "data": {
      "text/html": [
       "<div>\n",
       "<style scoped>\n",
       "    .dataframe tbody tr th:only-of-type {\n",
       "        vertical-align: middle;\n",
       "    }\n",
       "\n",
       "    .dataframe tbody tr th {\n",
       "        vertical-align: top;\n",
       "    }\n",
       "\n",
       "    .dataframe thead th {\n",
       "        text-align: right;\n",
       "    }\n",
       "</style>\n",
       "<table border=\"1\" class=\"dataframe\">\n",
       "  <thead>\n",
       "    <tr style=\"text-align: right;\">\n",
       "      <th></th>\n",
       "      <th>label</th>\n",
       "      <th>used_indicator</th>\n",
       "      <th>1.0</th>\n",
       "      <th>2.0</th>\n",
       "      <th>8.0</th>\n",
       "      <th>9.0</th>\n",
       "    </tr>\n",
       "  </thead>\n",
       "  <tbody>\n",
       "    <tr>\n",
       "      <th>Congo_MICS6</th>\n",
       "      <td>Personnellement agressée ou menacée par quelqu...</td>\n",
       "      <td>VT9</td>\n",
       "      <td>OUI</td>\n",
       "      <td>NON</td>\n",
       "      <td>NSP</td>\n",
       "      <td>NON REPONSE</td>\n",
       "    </tr>\n",
       "  </tbody>\n",
       "</table>\n",
       "</div>"
      ],
      "text/plain": [
       "                                                         label used_indicator  \\\n",
       "Congo_MICS6  Personnellement agressée ou menacée par quelqu...            VT9   \n",
       "\n",
       "             1.0  2.0  8.0          9.0  \n",
       "Congo_MICS6  OUI  NON  NSP  NON REPONSE  "
      ]
     },
     "metadata": {},
     "output_type": "display_data"
    },
    {
     "data": {
      "text/markdown": [
       "### MA1"
      ],
      "text/plain": [
       "<IPython.core.display.Markdown object>"
      ]
     },
     "metadata": {},
     "output_type": "display_data"
    },
    {
     "data": {
      "text/html": [
       "<div>\n",
       "<style scoped>\n",
       "    .dataframe tbody tr th:only-of-type {\n",
       "        vertical-align: middle;\n",
       "    }\n",
       "\n",
       "    .dataframe tbody tr th {\n",
       "        vertical-align: top;\n",
       "    }\n",
       "\n",
       "    .dataframe thead th {\n",
       "        text-align: right;\n",
       "    }\n",
       "</style>\n",
       "<table border=\"1\" class=\"dataframe\">\n",
       "  <thead>\n",
       "    <tr style=\"text-align: right;\">\n",
       "      <th></th>\n",
       "      <th>label</th>\n",
       "      <th>used_indicator</th>\n",
       "      <th>1.0</th>\n",
       "      <th>2.0</th>\n",
       "      <th>3.0</th>\n",
       "      <th>9.0</th>\n",
       "    </tr>\n",
       "  </thead>\n",
       "  <tbody>\n",
       "    <tr>\n",
       "      <th>Congo_MICS6</th>\n",
       "      <td>Actuellement marié ou vivant avec un homme</td>\n",
       "      <td>MA1</td>\n",
       "      <td>OUI, MARIEE ACTUELLEMENT</td>\n",
       "      <td>OUI, VIT ACTUELLEMENT AVEC UN PARTENAIRE</td>\n",
       "      <td>NON, PAS EN UNION</td>\n",
       "      <td>NON REPONSE</td>\n",
       "    </tr>\n",
       "  </tbody>\n",
       "</table>\n",
       "</div>"
      ],
      "text/plain": [
       "                                                  label used_indicator  \\\n",
       "Congo_MICS6  Actuellement marié ou vivant avec un homme            MA1   \n",
       "\n",
       "                                  1.0  \\\n",
       "Congo_MICS6  OUI, MARIEE ACTUELLEMENT   \n",
       "\n",
       "                                                  2.0                3.0  \\\n",
       "Congo_MICS6  OUI, VIT ACTUELLEMENT AVEC UN PARTENAIRE  NON, PAS EN UNION   \n",
       "\n",
       "                     9.0  \n",
       "Congo_MICS6  NON REPONSE  "
      ]
     },
     "metadata": {},
     "output_type": "display_data"
    },
    {
     "data": {
      "text/markdown": [
       "### AF10"
      ],
      "text/plain": [
       "<IPython.core.display.Markdown object>"
      ]
     },
     "metadata": {},
     "output_type": "display_data"
    },
    {
     "data": {
      "text/html": [
       "<div>\n",
       "<style scoped>\n",
       "    .dataframe tbody tr th:only-of-type {\n",
       "        vertical-align: middle;\n",
       "    }\n",
       "\n",
       "    .dataframe tbody tr th {\n",
       "        vertical-align: top;\n",
       "    }\n",
       "\n",
       "    .dataframe thead th {\n",
       "        text-align: right;\n",
       "    }\n",
       "</style>\n",
       "<table border=\"1\" class=\"dataframe\">\n",
       "  <thead>\n",
       "    <tr style=\"text-align: right;\">\n",
       "      <th></th>\n",
       "      <th>label</th>\n",
       "      <th>used_indicator</th>\n",
       "      <th>1.0</th>\n",
       "      <th>2.0</th>\n",
       "      <th>3.0</th>\n",
       "      <th>4.0</th>\n",
       "      <th>9.0</th>\n",
       "    </tr>\n",
       "  </thead>\n",
       "  <tbody>\n",
       "    <tr>\n",
       "      <th>Congo_MICS6</th>\n",
       "      <td>Difficulté é se souvenir ou é se concentrer</td>\n",
       "      <td>AF10</td>\n",
       "      <td>PAS DE DIFFICULTE</td>\n",
       "      <td>QUELQUES DIFFICULTES</td>\n",
       "      <td>BEAUCOUP DE DIFFICULTES</td>\n",
       "      <td>NE PEUT PAS DU TOUT SE SOUVENIR OU SE CONCENTRER</td>\n",
       "      <td>NON REPONSE</td>\n",
       "    </tr>\n",
       "  </tbody>\n",
       "</table>\n",
       "</div>"
      ],
      "text/plain": [
       "                                                   label used_indicator  \\\n",
       "Congo_MICS6  Difficulté é se souvenir ou é se concentrer           AF10   \n",
       "\n",
       "                           1.0                   2.0                      3.0  \\\n",
       "Congo_MICS6  PAS DE DIFFICULTE  QUELQUES DIFFICULTES  BEAUCOUP DE DIFFICULTES   \n",
       "\n",
       "                                                          4.0          9.0  \n",
       "Congo_MICS6  NE PEUT PAS DU TOUT SE SOUVENIR OU SE CONCENTRER  NON REPONSE  "
      ]
     },
     "metadata": {},
     "output_type": "display_data"
    },
    {
     "data": {
      "text/markdown": [
       "### AF11"
      ],
      "text/plain": [
       "<IPython.core.display.Markdown object>"
      ]
     },
     "metadata": {},
     "output_type": "display_data"
    },
    {
     "data": {
      "text/html": [
       "<div>\n",
       "<style scoped>\n",
       "    .dataframe tbody tr th:only-of-type {\n",
       "        vertical-align: middle;\n",
       "    }\n",
       "\n",
       "    .dataframe tbody tr th {\n",
       "        vertical-align: top;\n",
       "    }\n",
       "\n",
       "    .dataframe thead th {\n",
       "        text-align: right;\n",
       "    }\n",
       "</style>\n",
       "<table border=\"1\" class=\"dataframe\">\n",
       "  <thead>\n",
       "    <tr style=\"text-align: right;\">\n",
       "      <th></th>\n",
       "      <th>label</th>\n",
       "      <th>used_indicator</th>\n",
       "      <th>1.0</th>\n",
       "      <th>2.0</th>\n",
       "      <th>3.0</th>\n",
       "      <th>4.0</th>\n",
       "      <th>9.0</th>\n",
       "    </tr>\n",
       "  </thead>\n",
       "  <tbody>\n",
       "    <tr>\n",
       "      <th>Congo_MICS6</th>\n",
       "      <td>Difficulté é prendre soins soi-méme, comme se ...</td>\n",
       "      <td>AF11</td>\n",
       "      <td>PAS DE DIFFICULTE</td>\n",
       "      <td>QUELQUES DIFFICULTES</td>\n",
       "      <td>BEAUCOUP DE DIFFICULTES</td>\n",
       "      <td>NE PEUT PAS DU TOUT  PRENDRE SOIN D?ELLE-MEME</td>\n",
       "      <td>NON REPONSE</td>\n",
       "    </tr>\n",
       "  </tbody>\n",
       "</table>\n",
       "</div>"
      ],
      "text/plain": [
       "                                                         label used_indicator  \\\n",
       "Congo_MICS6  Difficulté é prendre soins soi-méme, comme se ...           AF11   \n",
       "\n",
       "                           1.0                   2.0                      3.0  \\\n",
       "Congo_MICS6  PAS DE DIFFICULTE  QUELQUES DIFFICULTES  BEAUCOUP DE DIFFICULTES   \n",
       "\n",
       "                                                       4.0          9.0  \n",
       "Congo_MICS6  NE PEUT PAS DU TOUT  PRENDRE SOIN D?ELLE-MEME  NON REPONSE  "
      ]
     },
     "metadata": {},
     "output_type": "display_data"
    },
    {
     "data": {
      "text/markdown": [
       "### SB2U"
      ],
      "text/plain": [
       "<IPython.core.display.Markdown object>"
      ]
     },
     "metadata": {},
     "output_type": "display_data"
    },
    {
     "data": {
      "text/html": [
       "<div>\n",
       "<style scoped>\n",
       "    .dataframe tbody tr th:only-of-type {\n",
       "        vertical-align: middle;\n",
       "    }\n",
       "\n",
       "    .dataframe tbody tr th {\n",
       "        vertical-align: top;\n",
       "    }\n",
       "\n",
       "    .dataframe thead th {\n",
       "        text-align: right;\n",
       "    }\n",
       "</style>\n",
       "<table border=\"1\" class=\"dataframe\">\n",
       "  <thead>\n",
       "    <tr style=\"text-align: right;\">\n",
       "      <th></th>\n",
       "      <th>label</th>\n",
       "      <th>used_indicator</th>\n",
       "      <th>1.0</th>\n",
       "      <th>2.0</th>\n",
       "      <th>3.0</th>\n",
       "      <th>4.0</th>\n",
       "      <th>9.0</th>\n",
       "    </tr>\n",
       "  </thead>\n",
       "  <tbody>\n",
       "    <tr>\n",
       "      <th>Congo_MICS6</th>\n",
       "      <td>Temps depuis les derniers rapports sexuels - U...</td>\n",
       "      <td>SB2U</td>\n",
       "      <td>NOMBRE DE JOURS</td>\n",
       "      <td>NOMBRE DE SEMAINES</td>\n",
       "      <td>NOMBRE DE MOIS</td>\n",
       "      <td>NOMBRE D?ANNEES</td>\n",
       "      <td>NON REPONSE</td>\n",
       "    </tr>\n",
       "  </tbody>\n",
       "</table>\n",
       "</div>"
      ],
      "text/plain": [
       "                                                         label used_indicator  \\\n",
       "Congo_MICS6  Temps depuis les derniers rapports sexuels - U...           SB2U   \n",
       "\n",
       "                         1.0                 2.0             3.0  \\\n",
       "Congo_MICS6  NOMBRE DE JOURS  NOMBRE DE SEMAINES  NOMBRE DE MOIS   \n",
       "\n",
       "                         4.0          9.0  \n",
       "Congo_MICS6  NOMBRE D?ANNEES  NON REPONSE  "
      ]
     },
     "metadata": {},
     "output_type": "display_data"
    },
    {
     "data": {
      "text/markdown": [
       "### TA16"
      ],
      "text/plain": [
       "<IPython.core.display.Markdown object>"
      ]
     },
     "metadata": {},
     "output_type": "display_data"
    },
    {
     "data": {
      "text/html": [
       "<div>\n",
       "<style scoped>\n",
       "    .dataframe tbody tr th:only-of-type {\n",
       "        vertical-align: middle;\n",
       "    }\n",
       "\n",
       "    .dataframe tbody tr th {\n",
       "        vertical-align: top;\n",
       "    }\n",
       "\n",
       "    .dataframe thead th {\n",
       "        text-align: right;\n",
       "    }\n",
       "</style>\n",
       "<table border=\"1\" class=\"dataframe\">\n",
       "  <thead>\n",
       "    <tr style=\"text-align: right;\">\n",
       "      <th></th>\n",
       "      <th>label</th>\n",
       "      <th>used_indicator</th>\n",
       "      <th>0.0</th>\n",
       "      <th>10.0</th>\n",
       "      <th>30.0</th>\n",
       "      <th>99.0</th>\n",
       "    </tr>\n",
       "  </thead>\n",
       "  <tbody>\n",
       "    <tr>\n",
       "      <th>Congo_MICS6</th>\n",
       "      <td>Nombre de jours oé au moins une boisson alcool...</td>\n",
       "      <td>TA16</td>\n",
       "      <td>N?A PAS BU D?ALCOOL DANS LE DERNIER MOIS</td>\n",
       "      <td>10 JOURS OU PLUS MAIS MOINS D?UN MOIS</td>\n",
       "      <td>CHAQUE JOUR / PRESQUE TOUS LES JOURS</td>\n",
       "      <td>NON REPONSE</td>\n",
       "    </tr>\n",
       "  </tbody>\n",
       "</table>\n",
       "</div>"
      ],
      "text/plain": [
       "                                                         label used_indicator  \\\n",
       "Congo_MICS6  Nombre de jours oé au moins une boisson alcool...           TA16   \n",
       "\n",
       "                                                  0.0  \\\n",
       "Congo_MICS6  N?A PAS BU D?ALCOOL DANS LE DERNIER MOIS   \n",
       "\n",
       "                                              10.0  \\\n",
       "Congo_MICS6  10 JOURS OU PLUS MAIS MOINS D?UN MOIS   \n",
       "\n",
       "                                             30.0         99.0  \n",
       "Congo_MICS6  CHAQUE JOUR / PRESQUE TOUS LES JOURS  NON REPONSE  "
      ]
     },
     "metadata": {},
     "output_type": "display_data"
    },
    {
     "data": {
      "text/markdown": [
       "### LS2"
      ],
      "text/plain": [
       "<IPython.core.display.Markdown object>"
      ]
     },
     "metadata": {},
     "output_type": "display_data"
    },
    {
     "data": {
      "text/html": [
       "<div>\n",
       "<style scoped>\n",
       "    .dataframe tbody tr th:only-of-type {\n",
       "        vertical-align: middle;\n",
       "    }\n",
       "\n",
       "    .dataframe tbody tr th {\n",
       "        vertical-align: top;\n",
       "    }\n",
       "\n",
       "    .dataframe thead th {\n",
       "        text-align: right;\n",
       "    }\n",
       "</style>\n",
       "<table border=\"1\" class=\"dataframe\">\n",
       "  <thead>\n",
       "    <tr style=\"text-align: right;\">\n",
       "      <th></th>\n",
       "      <th>label</th>\n",
       "      <th>used_indicator</th>\n",
       "      <th>0.0</th>\n",
       "      <th>1.0</th>\n",
       "      <th>2.0</th>\n",
       "      <th>3.0</th>\n",
       "      <th>4.0</th>\n",
       "      <th>5.0</th>\n",
       "      <th>6.0</th>\n",
       "      <th>7.0</th>\n",
       "      <th>8.0</th>\n",
       "      <th>9.0</th>\n",
       "      <th>10.0</th>\n",
       "      <th>99.0</th>\n",
       "    </tr>\n",
       "  </thead>\n",
       "  <tbody>\n",
       "    <tr>\n",
       "      <th>Congo_MICS6</th>\n",
       "      <td>Satisfaction é la marche de l'échelle</td>\n",
       "      <td>LS2</td>\n",
       "      <td>0</td>\n",
       "      <td>1</td>\n",
       "      <td>2</td>\n",
       "      <td>3</td>\n",
       "      <td>4</td>\n",
       "      <td>5</td>\n",
       "      <td>6</td>\n",
       "      <td>7</td>\n",
       "      <td>8</td>\n",
       "      <td>9</td>\n",
       "      <td>10</td>\n",
       "      <td>NON REPONSE</td>\n",
       "    </tr>\n",
       "  </tbody>\n",
       "</table>\n",
       "</div>"
      ],
      "text/plain": [
       "                                             label used_indicator 0.0 1.0 2.0  \\\n",
       "Congo_MICS6  Satisfaction é la marche de l'échelle            LS2   0   1   2   \n",
       "\n",
       "            3.0 4.0 5.0 6.0 7.0 8.0 9.0 10.0         99.0  \n",
       "Congo_MICS6   3   4   5   6   7   8   9   10  NON REPONSE  "
      ]
     },
     "metadata": {},
     "output_type": "display_data"
    }
   ],
   "source": [
    "dataframes = check_values(micsround=ROUND, indicators=select_indicators, swap_indicators={}, ignorecase=True)\n",
    "\n",
    "for quest in dataframes.keys():\n",
    "    display(Markdown('---'))\n",
    "    display(Markdown(f'## {quest}'))\n",
    "    dataframes_quest = dataframes[quest]\n",
    "    \n",
    "    for ind in dataframes_quest.keys():\n",
    "        display(Markdown(f'### {ind}'))\n",
    "        display(dataframes_quest[ind])"
   ]
  },
  {
   "cell_type": "code",
   "execution_count": 9,
   "id": "513555ef-e94e-4f08-89fa-59c6b76972b7",
   "metadata": {},
   "outputs": [],
   "source": [
    "CHECKDIR = 'C:/Users/dario/OneDrive/Desktop/GITLAB/lifesatisfaction_s/data/check'\n",
    "\n",
    "for quest in dataframes.keys():\n",
    "    dataframes_quest = dataframes[quest]\n",
    "    os.makedirs(os.path.join(CHECKDIR, quest), exist_ok=True)\n",
    "    \n",
    "    for ind in dataframes_quest.keys():\n",
    "        dataframes_quest[ind].to_csv(os.path.join(CHECKDIR, quest, f'{ind}.csv'))"
   ]
  },
  {
   "cell_type": "code",
   "execution_count": 10,
   "id": "ee140a4a-b159-4d4b-b10b-897b94b89118",
   "metadata": {},
   "outputs": [
    {
     "data": {
      "text/html": [
       "<div>\n",
       "<style scoped>\n",
       "    .dataframe tbody tr th:only-of-type {\n",
       "        vertical-align: middle;\n",
       "    }\n",
       "\n",
       "    .dataframe tbody tr th {\n",
       "        vertical-align: top;\n",
       "    }\n",
       "\n",
       "    .dataframe thead th {\n",
       "        text-align: right;\n",
       "    }\n",
       "</style>\n",
       "<table border=\"1\" class=\"dataframe\">\n",
       "  <thead>\n",
       "    <tr style=\"text-align: right;\">\n",
       "      <th></th>\n",
       "      <th>label</th>\n",
       "      <th>used_indicator</th>\n",
       "    </tr>\n",
       "  </thead>\n",
       "  <tbody>\n",
       "    <tr>\n",
       "      <th>Congo_MICS6</th>\n",
       "      <td>Age de la femme</td>\n",
       "      <td>WB4</td>\n",
       "    </tr>\n",
       "  </tbody>\n",
       "</table>\n",
       "</div>"
      ],
      "text/plain": [
       "                       label used_indicator\n",
       "Congo_MICS6  Age de la femme            WB4"
      ]
     },
     "metadata": {},
     "output_type": "display_data"
    },
    {
     "data": {
      "text/html": [
       "<div>\n",
       "<style scoped>\n",
       "    .dataframe tbody tr th:only-of-type {\n",
       "        vertical-align: middle;\n",
       "    }\n",
       "\n",
       "    .dataframe tbody tr th {\n",
       "        vertical-align: top;\n",
       "    }\n",
       "\n",
       "    .dataframe thead th {\n",
       "        text-align: right;\n",
       "    }\n",
       "</style>\n",
       "<table border=\"1\" class=\"dataframe\">\n",
       "  <thead>\n",
       "    <tr style=\"text-align: right;\">\n",
       "      <th></th>\n",
       "      <th>label</th>\n",
       "      <th>used_indicator</th>\n",
       "      <th>0.0</th>\n",
       "      <th>10.0</th>\n",
       "      <th>20.0</th>\n",
       "      <th>31.0</th>\n",
       "      <th>32.0</th>\n",
       "      <th>33.0</th>\n",
       "      <th>34.0</th>\n",
       "      <th>40.0</th>\n",
       "      <th>98.0</th>\n",
       "      <th>99.0</th>\n",
       "    </tr>\n",
       "  </thead>\n",
       "  <tbody>\n",
       "    <tr>\n",
       "      <th>Congo_MICS6</th>\n",
       "      <td>Le plus haut niveau d'école fréquenté</td>\n",
       "      <td>WB6A</td>\n",
       "      <td>PREPRIMAIRE</td>\n",
       "      <td>PRIMAIRE</td>\n",
       "      <td>SECONDAIRE 1</td>\n",
       "      <td>SECONDAIRE 2 GENER</td>\n",
       "      <td>SECONDAIRE 2 TECHN</td>\n",
       "      <td>SECONDAIRE 2 PROFES</td>\n",
       "      <td>SECONDAIRE 2 ART&amp;M</td>\n",
       "      <td>SUPERIEUR</td>\n",
       "      <td>NSP</td>\n",
       "      <td>NON REPONSE</td>\n",
       "    </tr>\n",
       "  </tbody>\n",
       "</table>\n",
       "</div>"
      ],
      "text/plain": [
       "                                             label used_indicator  \\\n",
       "Congo_MICS6  Le plus haut niveau d'école fréquenté           WB6A   \n",
       "\n",
       "                     0.0      10.0          20.0                31.0  \\\n",
       "Congo_MICS6  PREPRIMAIRE  PRIMAIRE  SECONDAIRE 1  SECONDAIRE 2 GENER   \n",
       "\n",
       "                           32.0                 33.0                34.0  \\\n",
       "Congo_MICS6  SECONDAIRE 2 TECHN  SECONDAIRE 2 PROFES  SECONDAIRE 2 ART&M   \n",
       "\n",
       "                  40.0 98.0         99.0  \n",
       "Congo_MICS6  SUPERIEUR  NSP  NON REPONSE  "
      ]
     },
     "metadata": {},
     "output_type": "display_data"
    }
   ],
   "source": [
    "#per visualizzare tramite pd i file csv relativi ai singoli indicatori (esempio con WB5).\n",
    "WB4_data = pd.read_csv(os.path.join(CHECKDIR, 'wm', 'WB4.csv'), index_col=0)\n",
    "display(WB4_data)\n",
    "WB6A_data = pd.read_csv(os.path.join(CHECKDIR, 'wm', 'WB6A.csv'), index_col=0)\n",
    "display(WB6A_data)"
   ]
  },
  {
   "cell_type": "markdown",
   "id": "2a237357-8d2f-40a2-a0d4-a34be2c8a529",
   "metadata": {},
   "source": [
    "l'idea della mics_library come proposta da tutorial è di definire qui un dizionario da utilizare per risolvere le incongruenze relative all'uso di nomi diversi in paesi diversi per gli stessi indicatori."
   ]
  },
  {
   "cell_type": "markdown",
   "id": "f3bbb23b-bdec-4049-a283-bbfbcf12eb1f",
   "metadata": {},
   "source": [
    "L'idea qui è di agire sui dati manualmente e risolvere le incongruenze che riteniamo presenti. Ancora una volta l'idea è creare un dizionario con chiave il \"nome corrente che vogliamo cambiare dell'indicatore\" e con valore \"il valore che vogliamo assegnare al posto di quello esistente\"."
   ]
  },
  {
   "cell_type": "markdown",
   "id": "cb302218-34b2-4759-af7f-4933e6df8b88",
   "metadata": {},
   "source": [
    "{'wm': \n",
    "    {'Congo_MICS6': {'\"Déjé fréquenté l'école\"' : '\"Have you ever attended school or any early childhood education programme\"', \n",
    "                 ...}        \n",
    "     ...}\n",
    " }"
   ]
  },
  {
   "cell_type": "code",
   "execution_count": 11,
   "id": "b23afb59-7407-4b78-94d5-79eb144218fb",
   "metadata": {},
   "outputs": [],
   "source": [
    "RECODE_DIR = 'C:/Users/dario/OneDrive/Desktop/GITLAB/lifesatisfaction_s/data/recode_dir'\n",
    "recoding_dictionary = create_recoding_dict(RECODE_DIR)\n",
    "#display(recoding_dictionary)"
   ]
  },
  {
   "cell_type": "code",
   "execution_count": 12,
   "id": "61e579ab-bcd2-496b-9a98-6877f3a75793",
   "metadata": {},
   "outputs": [],
   "source": [
    "dataset = import_dataset(ROUND, select_indicators, swap_indicators={},recoding_dictionary=recoding_dictionary, ignorecase=True)   \n",
    "data, keys = merge_questionnaires(dataset)\n",
    "\n",
    "\n",
    "OUT_DIR = 'C:/Users/dario/OneDrive/Desktop/GITLAB/lifesatisfaction_s/data/out'\n",
    "data.to_csv(os.path.join(OUT_DIR, 'data.csv'))\n",
    "keys.to_csv(os.path.join(OUT_DIR, 'keys.csv'))"
   ]
  },
  {
   "cell_type": "markdown",
   "id": "3d7b3851-7fa8-4f5e-8c24-f0451b2f7b53",
   "metadata": {},
   "source": [
    "La parte prima sul dizionario è da rivedere. Ora l'idea è di andare ad aprire i file csv dei singoli indicatori e andare a modificarli manualmente (sia se vogliamo il nome, che in questo caso è un po' in francese e un po' incomprensibile, sia la struttura dei punteggi dell'item)."
   ]
  },
  {
   "cell_type": "markdown",
   "id": "8da12555-db3c-47d5-b092-ea66c255ea4e",
   "metadata": {},
   "source": [
    "Ora l'idea è di creare un classificatore che utilizzi come input i vari item predittori indipendenti e come output abbia LS. In questo caso predirrà LS come 1 se è sompra una certa soglia oppure come 0 se sarà sotto una certa soglia.\n",
    "Partiamo da un classificatore poichè è l'approccio più semplice al ML. Poi faremo una regressione per avere LS su più livelli di predizione.\n",
    "Ci baseremo sul codice pipeline proposto da Andrea in uno dei suoi tutorial."
   ]
  },
  {
   "cell_type": "raw",
   "id": "b6e2fb20-53a6-4f9b-ad86-12b6a590c6d9",
   "metadata": {},
   "source": []
  },
  {
   "cell_type": "code",
   "execution_count": null,
   "id": "8a438dc7-cb39-4afb-af88-809f6b75a709",
   "metadata": {},
   "outputs": [],
   "source": []
  }
 ],
 "metadata": {
  "kernelspec": {
   "display_name": "Python 3 (ipykernel)",
   "language": "python",
   "name": "python3"
  },
  "language_info": {
   "codemirror_mode": {
    "name": "ipython",
    "version": 3
   },
   "file_extension": ".py",
   "mimetype": "text/x-python",
   "name": "python",
   "nbconvert_exporter": "python",
   "pygments_lexer": "ipython3",
   "version": "3.9.12"
  }
 },
 "nbformat": 4,
 "nbformat_minor": 5
}
